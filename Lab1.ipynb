{
  "cells": [
    {
      "cell_type": "markdown",
      "metadata": {
        "id": "view-in-github",
        "colab_type": "text"
      },
      "source": [
        "<a href=\"https://colab.research.google.com/github/mmarushika/sdc-lab/blob/main/Lab1.ipynb\" target=\"_parent\"><img src=\"https://colab.research.google.com/assets/colab-badge.svg\" alt=\"Open In Colab\"/></a>"
      ]
    },
    {
      "cell_type": "code",
      "execution_count": null,
      "metadata": {
        "id": "OhyOKk3a0eqb"
      },
      "outputs": [],
      "source": [
        "import numpy as np\n",
        "import pandas as pd\n",
        "import matplotlib.pyplot as plt\n",
        "from sklearn.model_selection import train_test_split\n",
        "from sklearn.linear_model import LinearRegression\n",
        "from sklearn.metrics import mean_absolute_error, mean_squared_error\n",
        "from sklearn.datasets import fetch_california_housing\n"
      ]
    },
    {
      "cell_type": "code",
      "execution_count": null,
      "metadata": {
        "id": "KuexnHzn6pNx"
      },
      "outputs": [],
      "source": [
        "# Load dataset\n",
        "data = fetch_california_housing()\n",
        "df = pd.DataFrame(data.data, columns=data.feature_names)\n",
        "df['PRICE'] = data.target\n"
      ]
    },
    {
      "cell_type": "code",
      "execution_count": null,
      "metadata": {
        "id": "d2t40XUc6tDx"
      },
      "outputs": [],
      "source": [
        "# Define features and target variable\n",
        "X = df.drop(columns=['PRICE'])\n",
        "y = df['PRICE']\n",
        "\n",
        "# Split data into training and testing sets\n",
        "X_train, X_test, y_train, y_test = train_test_split(X, y, test_size=0.2, random_state=42)\n"
      ]
    },
    {
      "cell_type": "code",
      "execution_count": null,
      "metadata": {
        "id": "EVdjxLLZ6zMZ"
      },
      "outputs": [],
      "source": [
        "# Train Linear Regression model\n",
        "model = LinearRegression()\n",
        "model.fit(X_train, y_train)\n",
        "\n",
        "# Make predictions\n",
        "y_pred = model.predict(X_test)"
      ]
    },
    {
      "cell_type": "code",
      "execution_count": null,
      "metadata": {
        "colab": {
          "background_save": true,
          "base_uri": "https://localhost:8080/"
        },
        "id": "8NfPCzti61_h",
        "outputId": "da603a8e-f042-4820-9b3a-fe906e32db1c"
      },
      "outputs": [
        {
          "name": "stdout",
          "output_type": "stream",
          "text": [
            "Mean Absolute Error: 0.5332001304956553\n",
            "Mean Squared Error: 0.5558915986952444\n",
            "Root Mean Squared Error: 0.7455813830127764\n",
            "   Actual Price  Predicted Price\n",
            "0       0.47700         0.719123\n",
            "1       0.45800         1.764017\n",
            "2       5.00001         2.709659\n",
            "3       2.18600         2.838926\n",
            "4       2.78000         2.604657\n",
            "Enter house details to predict price:\n"
          ]
        }
      ],
      "source": [
        "# Evaluate model\n",
        "mae = mean_absolute_error(y_test, y_pred)\n",
        "mse = mean_squared_error(y_test, y_pred)\n",
        "rmse = np.sqrt(mse)\n",
        "\n",
        "print(f\"Mean Absolute Error: {mae}\")\n",
        "print(f\"Mean Squared Error: {mse}\")\n",
        "print(f\"Root Mean Squared Error: {rmse}\")\n",
        "\n",
        "# Display actual vs predicted prices\n",
        "price_comparison = pd.DataFrame({'Actual Price': y_test.values, 'Predicted Price': y_pred})\n",
        "print(price_comparison.head())\n",
        "\n",
        "# Function to input house features and get predicted price\n",
        "def predict_house_price():\n",
        "    sample_input = {}\n",
        "    for feature in data.feature_names:\n",
        "        value = float(input(f\"Enter value for {feature}: \"))\n",
        "        sample_input[feature] = value\n",
        "\n",
        "    input_df = pd.DataFrame([sample_input])\n",
        "    predicted_price = model.predict(input_df)[0]\n",
        "    print(f\"Predicted Price: {predicted_price}\")\n",
        "\n",
        "# Sample input and prediction\n",
        "if __name__ == \"__main__\":\n",
        "    print(\"Enter house details to predict price:\")\n",
        "    predict_house_price()\n",
        "\n",
        "# Plot actual vs predicted values\n",
        "plt.scatter(y_test, y_pred, alpha=0.5)\n",
        "plt.xlabel(\"Actual Prices\")\n",
        "plt.ylabel(\"Predicted Prices\")\n",
        "plt.title(\"Actual vs Predicted Prices\")\n",
        "plt.show()\n"
      ]
    }
  ],
  "metadata": {
    "colab": {
      "provenance": [],
      "authorship_tag": "ABX9TyOeEGEYtNn0g/zhKi6aEsHk",
      "include_colab_link": true
    },
    "kernelspec": {
      "display_name": "Python 3",
      "name": "python3"
    },
    "language_info": {
      "name": "python"
    }
  },
  "nbformat": 4,
  "nbformat_minor": 0
}