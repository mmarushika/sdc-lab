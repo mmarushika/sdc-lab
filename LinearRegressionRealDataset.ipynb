{
  "nbformat": 4,
  "nbformat_minor": 0,
  "metadata": {
    "colab": {
      "provenance": [],
      "authorship_tag": "ABX9TyPr1Sx7kg7iPXYTkXyEDG4m",
      "include_colab_link": true
    },
    "kernelspec": {
      "name": "python3",
      "display_name": "Python 3"
    },
    "language_info": {
      "name": "python"
    }
  },
  "cells": [
    {
      "cell_type": "markdown",
      "metadata": {
        "id": "view-in-github",
        "colab_type": "text"
      },
      "source": [
        "<a href=\"https://colab.research.google.com/github/mmarushika/sdc-lab/blob/main/LinearRegressionRealDataset.ipynb\" target=\"_parent\"><img src=\"https://colab.research.google.com/assets/colab-badge.svg\" alt=\"Open In Colab\"/></a>"
      ]
    },
    {
      "cell_type": "code",
      "execution_count": null,
      "metadata": {
        "colab": {
          "base_uri": "https://localhost:8080/"
        },
        "id": "ScjSBAZarqwv",
        "outputId": "e328721d-3ea6-42c9-f6bc-62bd6a9341b3"
      },
      "outputs": [
        {
          "output_type": "stream",
          "name": "stdout",
          "text": [
            "Sample Data:\n",
            "   MedInc  HouseAge  AveRooms  AveBedrms  Population  AveOccup  Latitude  \\\n",
            "0  8.3252      41.0  6.984127   1.023810       322.0  2.555556     37.88   \n",
            "1  8.3014      21.0  6.238137   0.971880      2401.0  2.109842     37.86   \n",
            "2  7.2574      52.0  8.288136   1.073446       496.0  2.802260     37.85   \n",
            "3  5.6431      52.0  5.817352   1.073059       558.0  2.547945     37.85   \n",
            "4  3.8462      52.0  6.281853   1.081081       565.0  2.181467     37.85   \n",
            "\n",
            "   Longitude  MedHouseVal  \n",
            "0    -122.23        4.526  \n",
            "1    -122.22        3.585  \n",
            "2    -122.24        3.521  \n",
            "3    -122.25        3.413  \n",
            "4    -122.25        3.422  \n",
            "\n",
            "Model trained. Mean Squared Error: 0.5559\n",
            "\n",
            "--- Predict Housing Price ---\n",
            "Enter the following values:\n",
            "Median Income (in 10k USD): 6\n",
            "House Age (in years): 30\n",
            "Average number of rooms: 6.5\n",
            "Average number of bedrooms: 1\n",
            "Block population: 1200\n",
            "Average household occupancy: 3\n",
            "Latitude: 34\n",
            "Longitude: -118\n",
            "\n",
            "Estimated Median House Value: $283,363.53\n"
          ]
        },
        {
          "output_type": "stream",
          "name": "stderr",
          "text": [
            "/usr/local/lib/python3.11/dist-packages/sklearn/utils/validation.py:2739: UserWarning: X does not have valid feature names, but StandardScaler was fitted with feature names\n",
            "  warnings.warn(\n"
          ]
        }
      ],
      "source": [
        "# California Housing Price Prediction using Linear Regression\n",
        "\n",
        "# Step 1: Import libraries\n",
        "import pandas as pd\n",
        "import numpy as np\n",
        "from sklearn.datasets import fetch_california_housing\n",
        "from sklearn.linear_model import LinearRegression\n",
        "from sklearn.model_selection import train_test_split\n",
        "from sklearn.metrics import mean_squared_error\n",
        "from sklearn.preprocessing import StandardScaler\n",
        "\n",
        "# Step 2: Load the California housing dataset\n",
        "california = fetch_california_housing(as_frame=True)\n",
        "df = california.frame\n",
        "print(\"Sample Data:\")\n",
        "print(df.head())\n",
        "\n",
        "# Step 3: Feature matrix (X) and target vector (y)\n",
        "X = df.drop(columns=[\"MedHouseVal\"])\n",
        "y = df[\"MedHouseVal\"]  # Median house value in $100,000s\n",
        "\n",
        "# Optional: Feature Scaling\n",
        "scaler = StandardScaler()\n",
        "X_scaled = scaler.fit_transform(X)\n",
        "\n",
        "# Step 4: Train-test split\n",
        "X_train, X_test, y_train, y_test = train_test_split(X_scaled, y, test_size=0.2, random_state=42)\n",
        "\n",
        "# Step 5: Train the model\n",
        "model = LinearRegression()\n",
        "model.fit(X_train, y_train)\n",
        "\n",
        "# Step 6: Evaluate the model\n",
        "y_pred = model.predict(X_test)\n",
        "mse = mean_squared_error(y_test, y_pred)\n",
        "print(f\"\\nModel trained. Mean Squared Error: {mse:.4f}\")\n",
        "\n",
        "# Step 7: Prediction Input Prompt\n",
        "print(\"\\n--- Predict Housing Price ---\")\n",
        "print(\"Enter the following values:\")\n",
        "\n",
        "try:\n",
        "    MedInc = float(input(\"Median Income (in 10k USD): \"))\n",
        "    HouseAge = float(input(\"House Age (in years): \"))\n",
        "    AveRooms = float(input(\"Average number of rooms: \"))\n",
        "    AveBedrms = float(input(\"Average number of bedrooms: \"))\n",
        "    Population = float(input(\"Block population: \"))\n",
        "    AveOccup = float(input(\"Average household occupancy: \"))\n",
        "    Latitude = float(input(\"Latitude: \"))\n",
        "    Longitude = float(input(\"Longitude: \"))\n",
        "\n",
        "    input_features = np.array([[MedInc, HouseAge, AveRooms, AveBedrms, Population, AveOccup, Latitude, Longitude]])\n",
        "    input_scaled = scaler.transform(input_features)\n",
        "    predicted_price = model.predict(input_scaled)[0] * 100000  # converting back to dollars\n",
        "\n",
        "    print(f\"\\nEstimated Median House Value: ${predicted_price:,.2f}\")\n",
        "except Exception as e:\n",
        "    print(f\"Error: {e}\")\n"
      ]
    }
  ]
}