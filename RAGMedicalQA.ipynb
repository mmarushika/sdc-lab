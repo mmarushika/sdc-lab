{
  "nbformat": 4,
  "nbformat_minor": 0,
  "metadata": {
    "colab": {
      "provenance": [],
      "authorship_tag": "ABX9TyOig5yEbUWIOt6PEeASuYYD",
      "include_colab_link": true
    },
    "kernelspec": {
      "name": "python3",
      "display_name": "Python 3"
    },
    "language_info": {
      "name": "python"
    }
  },
  "cells": [
    {
      "cell_type": "markdown",
      "metadata": {
        "id": "view-in-github",
        "colab_type": "text"
      },
      "source": [
        "<a href=\"https://colab.research.google.com/github/mmarushika/sdc-lab/blob/main/RAGMedicalQA.ipynb\" target=\"_parent\"><img src=\"https://colab.research.google.com/assets/colab-badge.svg\" alt=\"Open In Colab\"/></a>"
      ]
    },
    {
      "cell_type": "code",
      "execution_count": 3,
      "metadata": {
        "colab": {
          "base_uri": "https://localhost:8080/"
        },
        "id": "pPKCp6soAWUc",
        "outputId": "076d8093-0c93-4593-b42b-0936e98aefe4"
      },
      "outputs": [
        {
          "output_type": "stream",
          "name": "stderr",
          "text": [
            "/usr/local/lib/python3.11/dist-packages/transformers/generation/configuration_utils.py:631: UserWarning: `do_sample` is set to `False`. However, `temperature` is set to `0` -- this flag is only used in sample-based generation modes. You should set `do_sample=True` or unset `temperature`. This was detected when initializing the generation config instance, which means the corresponding file may hold incorrect parameterization and should be fixed.\n",
            "  warnings.warn(\n",
            "/usr/local/lib/python3.11/dist-packages/transformers/generation/configuration_utils.py:631: UserWarning: `do_sample` is set to `False`. However, `temperature` is set to `0` -- this flag is only used in sample-based generation modes. You should set `do_sample=True` or unset `temperature`.\n",
            "  warnings.warn(\n",
            "Device set to use cpu\n"
          ]
        },
        {
          "output_type": "stream",
          "name": "stdout",
          "text": [
            "🔍 Question: What is hypertension?\n",
            "💬 Answer: a condition in which the blood pressure in the arteries is persistently elevated\n",
            "\n",
            "📚 Source Document(s):\n",
            "- Hypertension is a condition in which the blood pressure in the arteries is persistently elevated.\n",
            "- Diabetes is a metabolic disease that causes high blood sugar. The hormone insulin moves sugar from the blood into your cells.\n",
            "- Asthma is a respiratory condition marked by spasms in the bronchi of the lungs, causing difficulty in breathing.\n",
            "- A migraine is a headache of varying intensity, often accompanied by nausea and sensitivity to light and sound.\n"
          ]
        }
      ],
      "source": [
        "# ✅ STEP 1: Install Dependencies (including langchain-community)\n",
        "\n",
        "\n",
        "# ✅ STEP 2: Load Sample Medical Documents\n",
        "medical_docs = [\n",
        "    \"Hypertension is a condition in which the blood pressure in the arteries is persistently elevated.\",\n",
        "    \"Diabetes is a metabolic disease that causes high blood sugar. The hormone insulin moves sugar from the blood into your cells.\",\n",
        "    \"Asthma is a respiratory condition marked by spasms in the bronchi of the lungs, causing difficulty in breathing.\",\n",
        "    \"A migraine is a headache of varying intensity, often accompanied by nausea and sensitivity to light and sound.\",\n",
        "]\n",
        "\n",
        "# ✅ STEP 3: Create Embeddings & Vector Store\n",
        "from langchain_community.embeddings import HuggingFaceEmbeddings\n",
        "from langchain_community.vectorstores import FAISS\n",
        "from langchain.text_splitter import CharacterTextSplitter\n",
        "from langchain.docstore.document import Document\n",
        "\n",
        "# Convert raw texts to Document objects\n",
        "documents = [Document(page_content=doc) for doc in medical_docs]\n",
        "\n",
        "# Split into chunks\n",
        "splitter = CharacterTextSplitter(chunk_size=200, chunk_overlap=50)\n",
        "docs = splitter.split_documents(documents)\n",
        "\n",
        "# Use sentence-transformers for embeddings\n",
        "embedding = HuggingFaceEmbeddings(model_name=\"sentence-transformers/all-MiniLM-L6-v2\")\n",
        "\n",
        "# Create FAISS vector store\n",
        "db = FAISS.from_documents(docs, embedding)\n",
        "\n",
        "# ✅ STEP 4: Setup the LLM using Hugging Face pipeline\n",
        "from langchain.llms import HuggingFacePipeline\n",
        "from transformers import pipeline\n",
        "\n",
        "# Load FLAN-T5 model for question answering\n",
        "qa_pipeline = pipeline(\n",
        "    \"text2text-generation\",\n",
        "    model=\"google/flan-t5-base\",\n",
        "    max_length=256,\n",
        "    model_kwargs={\"temperature\": 0}\n",
        ")\n",
        "\n",
        "# Wrap pipeline with LangChain LLM\n",
        "llm = HuggingFacePipeline(pipeline=qa_pipeline)\n",
        "\n",
        "# ✅ STEP 5: Create the Retrieval-Augmented Generation Chain\n",
        "from langchain.chains import RetrievalQA\n",
        "\n",
        "qa_chain = RetrievalQA.from_chain_type(\n",
        "    llm=llm,\n",
        "    retriever=db.as_retriever(),\n",
        "    return_source_documents=True\n",
        ")\n",
        "\n",
        "# ✅ STEP 6: Ask Medical Questions\n",
        "query = \"What is hypertension?\"\n",
        "result = qa_chain(query)\n",
        "\n",
        "# ✅ STEP 7: Display the Answer and Source\n",
        "print(\"🔍 Question:\", query)\n",
        "print(\"💬 Answer:\", result['result'])\n",
        "print(\"\\n📚 Source Document(s):\")\n",
        "for doc in result['source_documents']:\n",
        "    print(\"-\", doc.page_content)\n"
      ]
    }
  ]
}